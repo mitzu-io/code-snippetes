{
 "cells": [
  {
   "cell_type": "code",
   "execution_count": 0,
   "metadata": {
    "application/vnd.databricks.v1+cell": {
     "cellMetadata": {
      "byteLimit": 2048000,
      "implicitDf": true,
      "rowLimit": 10000
     },
     "inputWidgets": {},
     "nuid": "9588fb66-1626-424b-aadf-f3defa31b1f6",
     "showTitle": false,
     "title": ""
    }
   },
   "outputs": [
    {
     "output_type": "display_data",
     "data": {
      "text/html": [
       "<style scoped>\n",
       "  .table-result-container {\n",
       "    max-height: 300px;\n",
       "    overflow: auto;\n",
       "  }\n",
       "  table, th, td {\n",
       "    border: 1px solid black;\n",
       "    border-collapse: collapse;\n",
       "  }\n",
       "  th, td {\n",
       "    padding: 5px;\n",
       "  }\n",
       "  th {\n",
       "    text-align: left;\n",
       "  }\n",
       "</style><div class='table-result-container'><table class='table-result'><thead style='background-color: white'><tr><th>event_time</th><th>device_id</th><th>user_id</th><th>merged_id</th></tr></thead><tbody><tr><td>2023-11-01T00:00:00Z</td><td>d_1</td><td>null</td><td>null</td></tr><tr><td>2023-11-02T00:00:00Z</td><td>d_1</td><td>u_1</td><td>null</td></tr><tr><td>2023-11-03T00:00:00Z</td><td>d_1</td><td>u_1</td><td>null</td></tr><tr><td>2023-11-04T00:00:00Z</td><td>d_2</td><td>null</td><td>null</td></tr><tr><td>2023-11-06T00:00:00Z</td><td>d_2</td><td>u_1</td><td>null</td></tr><tr><td>2023-11-07T00:00:00Z</td><td>d_2</td><td>null</td><td>null</td></tr><tr><td>2023-11-08T00:00:00Z</td><td>d_2</td><td>u_2</td><td>null</td></tr><tr><td>2023-11-09T00:00:00Z</td><td>d_3</td><td>null</td><td>null</td></tr><tr><td>2023-11-10T00:00:00Z</td><td>d_3</td><td>u_3</td><td>null</td></tr><tr><td>2023-11-09T00:00:00Z</td><td>d_3</td><td>null</td><td>null</td></tr><tr><td>2023-11-10T00:00:00Z</td><td>d_4</td><td>null</td><td>null</td></tr><tr><td>2023-11-01T00:00:00Z</td><td>d_1</td><td>null</td><td>null</td></tr><tr><td>2023-11-02T00:00:00Z</td><td>d_1</td><td>u_1</td><td>null</td></tr><tr><td>2023-11-03T00:00:00Z</td><td>d_1</td><td>u_1</td><td>null</td></tr><tr><td>2023-11-04T00:00:00Z</td><td>d_2</td><td>null</td><td>null</td></tr><tr><td>2023-11-06T00:00:00Z</td><td>d_2</td><td>u_1</td><td>null</td></tr><tr><td>2023-11-07T00:00:00Z</td><td>d_2</td><td>null</td><td>null</td></tr><tr><td>2023-11-08T00:00:00Z</td><td>d_2</td><td>u_2</td><td>null</td></tr><tr><td>2023-11-09T00:00:00Z</td><td>d_3</td><td>null</td><td>null</td></tr><tr><td>2023-11-10T00:00:00Z</td><td>d_3</td><td>u_3</td><td>null</td></tr><tr><td>2023-11-09T00:00:00Z</td><td>d_3</td><td>null</td><td>null</td></tr><tr><td>2023-11-10T00:00:00Z</td><td>d_4</td><td>null</td><td>null</td></tr><tr><td>2023-11-01T00:00:00Z</td><td>d_1</td><td>null</td><td>null</td></tr><tr><td>2023-11-02T00:00:00Z</td><td>d_1</td><td>u_1</td><td>null</td></tr><tr><td>2023-11-03T00:00:00Z</td><td>d_1</td><td>u_1</td><td>null</td></tr><tr><td>2023-11-04T00:00:00Z</td><td>d_2</td><td>null</td><td>null</td></tr><tr><td>2023-11-06T00:00:00Z</td><td>d_2</td><td>u_1</td><td>null</td></tr><tr><td>2023-11-07T00:00:00Z</td><td>d_2</td><td>null</td><td>null</td></tr><tr><td>2023-11-08T00:00:00Z</td><td>d_2</td><td>u_2</td><td>null</td></tr><tr><td>2023-11-09T00:00:00Z</td><td>d_3</td><td>null</td><td>null</td></tr><tr><td>2023-11-10T00:00:00Z</td><td>d_3</td><td>u_3</td><td>null</td></tr><tr><td>2023-11-09T00:00:00Z</td><td>d_3</td><td>null</td><td>null</td></tr><tr><td>2023-11-10T00:00:00Z</td><td>d_4</td><td>null</td><td>null</td></tr><tr><td>2023-11-01T00:00:00Z</td><td>d_1</td><td>null</td><td>null</td></tr><tr><td>2023-11-02T00:00:00Z</td><td>d_1</td><td>u_1</td><td>null</td></tr><tr><td>2023-11-03T00:00:00Z</td><td>d_1</td><td>u_1</td><td>null</td></tr><tr><td>2023-11-04T00:00:00Z</td><td>d_2</td><td>null</td><td>null</td></tr><tr><td>2023-11-06T00:00:00Z</td><td>d_2</td><td>u_1</td><td>null</td></tr><tr><td>2023-11-07T00:00:00Z</td><td>d_2</td><td>null</td><td>null</td></tr><tr><td>2023-11-08T00:00:00Z</td><td>d_2</td><td>u_2</td><td>null</td></tr><tr><td>2023-11-09T00:00:00Z</td><td>d_3</td><td>null</td><td>null</td></tr><tr><td>2023-11-10T00:00:00Z</td><td>d_3</td><td>u_3</td><td>null</td></tr><tr><td>2023-11-09T00:00:00Z</td><td>d_3</td><td>null</td><td>null</td></tr><tr><td>2023-11-10T00:00:00Z</td><td>d_4</td><td>null</td><td>null</td></tr></tbody></table></div>"
      ]
     },
     "metadata": {
      "application/vnd.databricks.v1+output": {
       "addedWidgets": {},
       "aggData": [],
       "aggError": "",
       "aggOverflow": false,
       "aggSchema": [],
       "aggSeriesLimitReached": false,
       "aggType": "",
       "arguments": {},
       "columnCustomDisplayInfos": {},
       "data": [
        [
         "2023-11-01T00:00:00Z",
         "d_1",
         null,
         null
        ],
        [
         "2023-11-02T00:00:00Z",
         "d_1",
         "u_1",
         null
        ],
        [
         "2023-11-03T00:00:00Z",
         "d_1",
         "u_1",
         null
        ],
        [
         "2023-11-04T00:00:00Z",
         "d_2",
         null,
         null
        ],
        [
         "2023-11-06T00:00:00Z",
         "d_2",
         "u_1",
         null
        ],
        [
         "2023-11-07T00:00:00Z",
         "d_2",
         null,
         null
        ],
        [
         "2023-11-08T00:00:00Z",
         "d_2",
         "u_2",
         null
        ],
        [
         "2023-11-09T00:00:00Z",
         "d_3",
         null,
         null
        ],
        [
         "2023-11-10T00:00:00Z",
         "d_3",
         "u_3",
         null
        ],
        [
         "2023-11-09T00:00:00Z",
         "d_3",
         null,
         null
        ],
        [
         "2023-11-10T00:00:00Z",
         "d_4",
         null,
         null
        ],
        [
         "2023-11-01T00:00:00Z",
         "d_1",
         null,
         null
        ],
        [
         "2023-11-02T00:00:00Z",
         "d_1",
         "u_1",
         null
        ],
        [
         "2023-11-03T00:00:00Z",
         "d_1",
         "u_1",
         null
        ],
        [
         "2023-11-04T00:00:00Z",
         "d_2",
         null,
         null
        ],
        [
         "2023-11-06T00:00:00Z",
         "d_2",
         "u_1",
         null
        ],
        [
         "2023-11-07T00:00:00Z",
         "d_2",
         null,
         null
        ],
        [
         "2023-11-08T00:00:00Z",
         "d_2",
         "u_2",
         null
        ],
        [
         "2023-11-09T00:00:00Z",
         "d_3",
         null,
         null
        ],
        [
         "2023-11-10T00:00:00Z",
         "d_3",
         "u_3",
         null
        ],
        [
         "2023-11-09T00:00:00Z",
         "d_3",
         null,
         null
        ],
        [
         "2023-11-10T00:00:00Z",
         "d_4",
         null,
         null
        ],
        [
         "2023-11-01T00:00:00Z",
         "d_1",
         null,
         null
        ],
        [
         "2023-11-02T00:00:00Z",
         "d_1",
         "u_1",
         null
        ],
        [
         "2023-11-03T00:00:00Z",
         "d_1",
         "u_1",
         null
        ],
        [
         "2023-11-04T00:00:00Z",
         "d_2",
         null,
         null
        ],
        [
         "2023-11-06T00:00:00Z",
         "d_2",
         "u_1",
         null
        ],
        [
         "2023-11-07T00:00:00Z",
         "d_2",
         null,
         null
        ],
        [
         "2023-11-08T00:00:00Z",
         "d_2",
         "u_2",
         null
        ],
        [
         "2023-11-09T00:00:00Z",
         "d_3",
         null,
         null
        ],
        [
         "2023-11-10T00:00:00Z",
         "d_3",
         "u_3",
         null
        ],
        [
         "2023-11-09T00:00:00Z",
         "d_3",
         null,
         null
        ],
        [
         "2023-11-10T00:00:00Z",
         "d_4",
         null,
         null
        ],
        [
         "2023-11-01T00:00:00Z",
         "d_1",
         null,
         null
        ],
        [
         "2023-11-02T00:00:00Z",
         "d_1",
         "u_1",
         null
        ],
        [
         "2023-11-03T00:00:00Z",
         "d_1",
         "u_1",
         null
        ],
        [
         "2023-11-04T00:00:00Z",
         "d_2",
         null,
         null
        ],
        [
         "2023-11-06T00:00:00Z",
         "d_2",
         "u_1",
         null
        ],
        [
         "2023-11-07T00:00:00Z",
         "d_2",
         null,
         null
        ],
        [
         "2023-11-08T00:00:00Z",
         "d_2",
         "u_2",
         null
        ],
        [
         "2023-11-09T00:00:00Z",
         "d_3",
         null,
         null
        ],
        [
         "2023-11-10T00:00:00Z",
         "d_3",
         "u_3",
         null
        ],
        [
         "2023-11-09T00:00:00Z",
         "d_3",
         null,
         null
        ],
        [
         "2023-11-10T00:00:00Z",
         "d_4",
         null,
         null
        ]
       ],
       "datasetInfos": [],
       "dbfsResultPath": null,
       "isJsonSchema": true,
       "metadata": {
        "dataframeName": "_sqldf",
        "executionCount": 4
       },
       "overflow": false,
       "plotOptions": {
        "customPlotOptions": {},
        "displayType": "table",
        "pivotAggregation": null,
        "pivotColumns": null,
        "xColumns": null,
        "yColumns": null
       },
       "removedWidgets": [],
       "schema": [
        {
         "metadata": "{}",
         "name": "event_time",
         "type": "\"timestamp\""
        },
        {
         "metadata": "{}",
         "name": "device_id",
         "type": "\"string\""
        },
        {
         "metadata": "{}",
         "name": "user_id",
         "type": "\"string\""
        },
        {
         "metadata": "{}",
         "name": "merged_id",
         "type": "\"string\""
        }
       ],
       "type": "table"
      }
     },
     "output_type": "display_data"
    }
   ],
   "source": [
    "%sql\n",
    "DROP TABLE test_events;\n",
    "CREATE TABLE test_events (\n",
    "    event_time TIMESTAMP,\n",
    "    device_id STRING,\n",
    "    user_id STRING,\n",
    "    merged_id STRING\n",
    ")USING DELTA\n",
    "LOCATION 's3://foxpanel-test-data/test/default/test_events/';\n",
    "\n",
    "-- User1 aliases: d_1, d_2, u_1, u_2\n",
    "-- User2 aliases: d_3, u_3\n",
    "-- User3 aliases: d_4\n",
    "INSERT INTO test_events (event_time, device_id, user_id) VALUES\n",
    "('2023-11-01', 'd_1', null),\n",
    "('2023-11-02', 'd_1', 'u_1'),\n",
    "('2023-11-03', 'd_1', 'u_1'),\n",
    "('2023-11-04', 'd_2', null),\n",
    "('2023-11-06', 'd_2', 'u_1'),\n",
    "('2023-11-07', 'd_2', null),\n",
    "('2023-11-08', 'd_2', 'u_2'),\n",
    "('2023-11-09', 'd_3', null),\n",
    "('2023-11-10', 'd_3', 'u_3'),\n",
    "('2023-11-09', 'd_3', null),\n",
    "('2023-11-10', 'd_4', null);\n",
    "\n",
    "select * from test_events;"
   ]
  },
  {
   "cell_type": "code",
   "execution_count": 0,
   "metadata": {
    "application/vnd.databricks.v1+cell": {
     "cellMetadata": {
      "byteLimit": 2048000,
      "rowLimit": 10000
     },
     "inputWidgets": {},
     "nuid": "4b1d4af3-340b-453b-bf51-733d4a6179b7",
     "showTitle": false,
     "title": ""
    }
   },
   "outputs": [],
   "source": [
    "# Installing graphframes\n",
    "#\n",
    "# For DB Runtime 14.2 scala 2.12 use the following JAR from Maven.\n",
    "# graphframes:graphframes:0.6.0-spark2.3-s_2.12"
   ]
  },
  {
   "cell_type": "code",
   "execution_count": 0,
   "metadata": {
    "application/vnd.databricks.v1+cell": {
     "cellMetadata": {
      "byteLimit": 2048000,
      "rowLimit": 10000
     },
     "inputWidgets": {},
     "nuid": "42e4ffc1-f08b-494e-8a31-5842dc9957b6",
     "showTitle": false,
     "title": ""
    }
   },
   "outputs": [
    {
     "output_type": "stream",
     "name": "stdout",
     "output_type": "stream",
     "text": [
      "+---+-------------------+------------+\n| id|   first_event_time|   component|\n+---+-------------------+------------+\n|d_4|2023-11-10 00:00:00| 77309411328|\n|d_3|2023-11-09 00:00:00|266287972352|\n|d_1|2023-11-01 00:00:00|  8589934592|\n|d_2|2023-11-04 00:00:00|  8589934592|\n|u_2|2023-11-08 00:00:00|  8589934592|\n|u_3|2023-11-10 00:00:00|266287972352|\n|u_1|2023-11-02 00:00:00|  8589934592|\n+---+-------------------+------------+\n\n"
     ]
    }
   ],
   "source": [
    "from pyspark.sql import SparkSession\n",
    "from graphframes import *\n",
    "\n",
    "spark = SparkSession.builder.getOrCreate()\n",
    "spark.sparkContext.setCheckpointDir('s3://foxpanel-test-data/checkpoints/')\n",
    "\n",
    "\n",
    "vertices = spark.sql(\n",
    "    \"\"\"\n",
    "    select          \n",
    "        device_id as id,\n",
    "        min(event_time) as first_event_time -- selecting first event time for the device_id\n",
    "        from test_events \n",
    "        where device_id is not null\n",
    "        group by 1\n",
    "    union all\n",
    "    select         \n",
    "        user_id as id,\n",
    "        min(event_time) as first_event_time -- selecting first event time for the user_id\n",
    "        from test_events \n",
    "        where user is not null\n",
    "        group by 1\n",
    "    \"\"\"\n",
    ")\n",
    "\n",
    "vertices.write.option(\"path\", \"s3://foxpanel-test-data/test/default/vertices/\").saveAsTable(\"vertices\", mode=\"overwrite\")\n",
    "\n",
    "\n",
    "edges = spark.sql(\n",
    "    \"\"\"\n",
    "    with directed as (\n",
    "    select \n",
    "        distinct \n",
    "        device_id as src, -- device_id is always present\n",
    "        coalesce(user_id, device_id) as dst -- if edge pointing then pointing itself\n",
    "    from test_events\n",
    "    )\n",
    "    select src, dst from directed\n",
    "    union \n",
    "    select dst, src from directed\n",
    "    \"\"\"\n",
    ")\n",
    "\n",
    "g = GraphFrame(e=edges, v=vertices)\n",
    "res = g.connectedComponents()\n",
    "\n",
    "res.show()\n",
    "\n",
    "res.write.option(\"mergeSchema\", \"true\").option(\"path\", \"s3://foxpanel-test-data/test/default/user_aliases/\").saveAsTable(\"user_aliases\", mode=\"overwrite\")"
   ]
  },
  {
   "cell_type": "code",
   "execution_count": 0,
   "metadata": {
    "application/vnd.databricks.v1+cell": {
     "cellMetadata": {
      "byteLimit": 2048000,
      "implicitDf": true,
      "rowLimit": 10000
     },
     "inputWidgets": {},
     "nuid": "ed6c8098-aad0-4d31-8eaa-a3c217962891",
     "showTitle": false,
     "title": ""
    }
   },
   "outputs": [
    {
     "output_type": "display_data",
     "data": {
      "text/html": [
       "<style scoped>\n",
       "  .table-result-container {\n",
       "    max-height: 300px;\n",
       "    overflow: auto;\n",
       "  }\n",
       "  table, th, td {\n",
       "    border: 1px solid black;\n",
       "    border-collapse: collapse;\n",
       "  }\n",
       "  th, td {\n",
       "    padding: 5px;\n",
       "  }\n",
       "  th {\n",
       "    text-align: left;\n",
       "  }\n",
       "</style><div class='table-result-container'><table class='table-result'><thead style='background-color: white'><tr><th>alias</th><th>component</th><th>merged_id</th></tr></thead><tbody><tr><td>d_1</td><td>8589934592</td><td>d_1</td></tr><tr><td>u_1</td><td>8589934592</td><td>d_1</td></tr><tr><td>d_2</td><td>8589934592</td><td>d_1</td></tr><tr><td>u_2</td><td>8589934592</td><td>d_1</td></tr><tr><td>d_4</td><td>77309411328</td><td>d_4</td></tr><tr><td>d_3</td><td>266287972352</td><td>d_3</td></tr><tr><td>u_3</td><td>266287972352</td><td>d_3</td></tr></tbody></table></div>"
      ]
     },
     "metadata": {
      "application/vnd.databricks.v1+output": {
       "addedWidgets": {},
       "aggData": [],
       "aggError": "",
       "aggOverflow": false,
       "aggSchema": [],
       "aggSeriesLimitReached": false,
       "aggType": "",
       "arguments": {},
       "columnCustomDisplayInfos": {},
       "data": [
        [
         "d_1",
         8589934592,
         "d_1"
        ],
        [
         "u_1",
         8589934592,
         "d_1"
        ],
        [
         "d_2",
         8589934592,
         "d_1"
        ],
        [
         "u_2",
         8589934592,
         "d_1"
        ],
        [
         "d_4",
         77309411328,
         "d_4"
        ],
        [
         "d_3",
         266287972352,
         "d_3"
        ],
        [
         "u_3",
         266287972352,
         "d_3"
        ]
       ],
       "datasetInfos": [],
       "dbfsResultPath": null,
       "isJsonSchema": true,
       "metadata": {
        "dataframeName": "_sqldf",
        "executionCount": 7
       },
       "overflow": false,
       "plotOptions": {
        "customPlotOptions": {},
        "displayType": "table",
        "pivotAggregation": null,
        "pivotColumns": null,
        "xColumns": null,
        "yColumns": null
       },
       "removedWidgets": [],
       "schema": [
        {
         "metadata": "{}",
         "name": "alias",
         "type": "\"string\""
        },
        {
         "metadata": "{}",
         "name": "component",
         "type": "\"long\""
        },
        {
         "metadata": "{}",
         "name": "merged_id",
         "type": "\"string\""
        }
       ],
       "type": "table"
      }
     },
     "output_type": "display_data"
    }
   ],
   "source": [
    "%sql\n",
    "select\n",
    "  id as alias,\n",
    "  component, \n",
    "  first(id) over (partition by component order by first_event_time) as merged_id\n",
    "from user_aliases \n"
   ]
  },
  {
   "cell_type": "code",
   "execution_count": 0,
   "metadata": {
    "application/vnd.databricks.v1+cell": {
     "cellMetadata": {},
     "inputWidgets": {},
     "nuid": "29c99781-e622-4c21-b2cb-058edb77b052",
     "showTitle": false,
     "title": ""
    }
   },
   "outputs": [],
   "source": []
  }
 ],
 "metadata": {
  "application/vnd.databricks.v1+notebook": {
   "dashboards": [],
   "language": "python",
   "notebookMetadata": {
    "mostRecentlyExecutedCommandWithImplicitDF": {
     "commandId": 773235559888338,
     "dataframes": [
      "_sqldf"
     ]
    },
    "pythonIndentUnit": 4
   },
   "notebookName": "User Aliases Table",
   "widgets": {}
  }
 },
 "nbformat": 4,
 "nbformat_minor": 0
}
